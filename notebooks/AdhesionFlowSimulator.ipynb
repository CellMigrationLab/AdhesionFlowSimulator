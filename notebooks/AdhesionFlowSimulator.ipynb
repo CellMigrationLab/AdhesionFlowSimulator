{
  "cells": [
    {
      "cell_type": "markdown",
      "source": [
        "# **Adhesion Flow Simulator**\n",
        "\n",
        "---\n",
        "\n",
        "## Overview\n",
        "\n",
        "The **Adhesion Flow Simulator** is a computational tool designed to simulate and visualize the behavior of cells under the influence of fluid flow. This pipeline models cell attachment to endothelial surfaces, guided by factors like flow speed, adhesion strength, and receptor map data. The simulator integrates biophysical properties of cells and fluid dynamics, offering insights into cell behavior in various conditions.\n",
        "\n",
        "The simulations use real-time flow adjustments and cell attachment dynamics to generate data, which can be visualized through heatmaps, flow fields, and Ripley’s L function analysis.\n",
        "\n",
        "## Features\n",
        "\n",
        "- **Flow-Driven Simulations**: Simulate cell movement and attachment in a fluid environment with tunable flow speeds.\n",
        "- **Receptor Map Support**: Load receptor map images to introduce spatial heterogeneity in cell adhesion probabilities.\n",
        "- **Ripley’s L Function**: Analyze spatial point patterns using Ripley’s L function to assess clustering of attached cells.\n",
        "- **Heatmaps and Visualization**: Generate visual outputs like flow fields, heatmaps, and cell trajectory videos.\n",
        "- **Checkpointing**: Save and resume simulations from checkpoints to handle large-scale runs efficiently.\n"
      ],
      "metadata": {
        "id": "mV0GWr9Lt4_U"
      }
    },
    {
      "cell_type": "markdown",
      "source": [
        "--------------------------------------------------------\n",
        "# **Part 0. Prepare the Google Colab session**\n",
        "--------------------------------------------------------\n",
        "<font size = 4>skip this section when using a local installation\n"
      ],
      "metadata": {
        "id": "OZqq_SUBuitH"
      }
    },
    {
      "cell_type": "markdown",
      "source": [
        "## **0.1. Install key dependencies**\n",
        "---\n",
        "<font size = 4>"
      ],
      "metadata": {
        "id": "4taTX18Qupt1"
      }
    },
    {
      "cell_type": "code",
      "execution_count": null,
      "metadata": {
        "cellView": "form",
        "id": "SQUnuwjhD-MQ"
      },
      "outputs": [],
      "source": [
        "#@markdown ##Play to install\n",
        "\n",
        "\n",
        "print(\"In progress....\")\n",
        "\n",
        "%pip install --quiet phiflow\n",
        "\n",
        "#!git clone https://github.com/CellMigrationLab/AdhesionFlowSimulator.git\n",
        "\n"
      ]
    },
    {
      "cell_type": "code",
      "source": [
        "!unzip /content/AdhesionFlowSimulator-main.zip -d /content/\n"
      ],
      "metadata": {
        "id": "nnd5AGtZErs4"
      },
      "execution_count": null,
      "outputs": []
    },
    {
      "cell_type": "markdown",
      "source": [
        "## **0.2. Mount your Google Drive**\n",
        "---\n",
        "<font size = 4> To use this notebook on the data present in your Google Drive, you need to mount your Google Drive to this notebook.\n",
        "\n",
        "<font size = 4> Play the cell below to mount your Google Drive and follow the instructions.\n",
        "\n",
        "<font size = 4> Once this is done, your data are available in the **Files** tab on the top left of notebook."
      ],
      "metadata": {
        "id": "NYVA8IwluyTl"
      }
    },
    {
      "cell_type": "code",
      "execution_count": null,
      "metadata": {
        "cellView": "form",
        "id": "-k2ySPwERnhr"
      },
      "outputs": [],
      "source": [
        "#@markdown ##Play the cell to connect your Google Drive to Colab\n",
        "from google.colab import drive\n",
        "drive.mount('/content/Gdrive')\n",
        "# This command was originally but I think it doesn't do anything really\n",
        "## %cd /gdrive"
      ]
    },
    {
      "cell_type": "markdown",
      "source": [
        "--------------------------------------------------------\n",
        "# **Part 1. Prepare the session**\n",
        "--------------------------------------------------------"
      ],
      "metadata": {
        "id": "r2IN4Zgau38q"
      }
    },
    {
      "cell_type": "code",
      "source": [
        "# @title ##Run to load key functions\n",
        "\n",
        "import os\n",
        "import numpy as np\n",
        "from PIL import Image\n",
        "import numpy as np\n",
        "import matplotlib.pyplot as plt\n",
        "from tqdm.notebook import tqdm\n",
        "from itertools import product\n",
        "import time\n",
        "import pandas as pd\n",
        "import cv2\n",
        "from phi.jax.flow import *\n",
        "import json\n",
        "import sys\n",
        "import requests\n",
        "from scipy.spatial import distance_matrix\n",
        "\n",
        "sys.path.append(\"../\")\n",
        "sys.path.append(\"AdhesionFlowSimulator/\")\n",
        "\n",
        "import AdhesionFlowSimulator\n",
        "from AdhesionFlowSimulator import *\n",
        "from src.flow_utils import *\n",
        "from src.io_utils import *\n",
        "from src.simulations import *\n",
        "from src.cell_dynamics import *\n",
        "from src.spatial_analysis import *\n",
        "\n",
        "# Current version of the notebook the user is running\n",
        "current_version = \"0.1\"\n",
        "Notebook_name = 'AdhesionFlowSimulator'\n",
        "\n",
        "# URL to the raw content of the version file in the repository\n",
        "version_url = \"https://raw.githubusercontent.com/guijacquemet/AdhesionFlowSimulator/main/notebooks/latest_version.txt\"\n",
        "\n",
        "# Function to define colors for formatting messages\n",
        "class bcolors:\n",
        "    WARNING = '\\033[91m'  # Red color for warning messages\n",
        "    ENDC = '\\033[0m'      # Reset color to default\n",
        "\n",
        "# Check if this is the latest version of the notebook\n",
        "try:\n",
        "    All_notebook_versions = pd.read_csv(version_url, dtype=str)\n",
        "    print('Notebook version: ' + current_version)\n",
        "\n",
        "    # Check if 'Version' column exists in the DataFrame\n",
        "    if 'Version' in All_notebook_versions.columns:\n",
        "        Latest_Notebook_version = All_notebook_versions[All_notebook_versions[\"Notebook\"] == Notebook_name]['Version'].iloc[0]\n",
        "        print('Latest notebook version: ' + Latest_Notebook_version)\n",
        "\n",
        "        if current_version == Latest_Notebook_version:\n",
        "            print(\"This notebook is up-to-date.\")\n",
        "        else:\n",
        "            print(bcolors.WARNING + \"A new version of this notebook has been released. We recommend that you download it at https://github.com/guijacquemet/CellTracksColab\" + bcolors.ENDC)\n",
        "    else:\n",
        "        print(\"The 'Version' column is not present in the version file.\")\n",
        "except requests.exceptions.RequestException as e:\n",
        "    print(\"Unable to fetch the latest version information. Please check your internet connection.\")\n",
        "except Exception as e:\n",
        "    print(\"An error occurred:\", str(e))\n",
        "\n"
      ],
      "metadata": {
        "cellView": "form",
        "id": "skE0vVDBv8s1"
      },
      "execution_count": null,
      "outputs": []
    },
    {
      "cell_type": "markdown",
      "source": [
        "# **Part 2. Choose the simulation settings**\n"
      ],
      "metadata": {
        "id": "rttOyjQw9NgF"
      }
    },
    {
      "cell_type": "markdown",
      "source": [
        "# Simulation Configuration Documentation\n",
        "\n",
        "This document provides an overview of the key parameters used in the simulation setup, describing their purpose and how they influence the behavior of the simulation.\n",
        "\n",
        "## Space Configuration\n",
        "\n",
        "- **PIXEL_SIZE**: `1.31`  \n",
        "  Defines the size of each pixel in microns. This is used to scale the spatial measurements of the simulation to real-world units.\n",
        "\n",
        "- **CELL_AREA_MIN**: `240`  \n",
        "  Minimum area of a cell in square microns. Cells in the simulation will have an area between this value and `CELL_AREA_MAX`.\n",
        "\n",
        "- **CELL_AREA_MAX**: `350`  \n",
        "  Maximum area of a cell in square microns. Together with `CELL_AREA_MIN`, this defines the range for cell sizes.\n",
        "\n",
        "- **FRAME_INTERVAL**: `0.04`  \n",
        "  The time between each frame in seconds. This determines the temporal resolution of the simulation.\n",
        "\n",
        "- **field_size**: `(512, 512)`  \n",
        "  The size of the simulation field (or viewport) in pixels. This determines the area in which the simulation occurs.\n",
        "\n",
        "- **grid_size**: Same as `field_size`  \n",
        "  Represents the resolution of the grid used for spatial calculations. In this case, it's the same as the field size.\n",
        "\n",
        "## Simulation Configuration\n",
        "\n",
        "- **NUM_FRAMES**: `500`  \n",
        "  The total number of frames the simulation will run for. This defines the duration of the simulation in discrete time steps.\n",
        "\n",
        "- **time_steps**: `NUM_FRAMES`  \n",
        "  Alias for `NUM_FRAMES`. Represents the number of time steps the simulation will execute.\n",
        "\n",
        "- **FLOW_SPEEDS**: `[100]`  \n",
        "  A list of flow speeds (in microns per second) to be used in the simulation. Different flow speeds will simulate different environmental conditions.\n",
        "\n",
        "- **adhesion_strengths**: `[0, 0.001, 0.005, 0.01, 0.02, 0.03, 0.04, 0.05, 0.06, 0.07, 0.08, 0.09, 0.1, 0.2]`  \n",
        "  A list of values representing the adhesion strength of cells. Higher values indicate stronger adhesion to the surface.\n",
        "\n",
        "- **cell_densities**: `[0.0003]`  \n",
        "  The density of cells in the simulation, expressed as cells per square micron. This controls how many cells are placed in the field.\n",
        "\n",
        "- **num_runs**: `1`  \n",
        "  The number of simulation runs to perform for each parameter combination.\n",
        "\n",
        "## Attachment Background\n",
        "\n",
        "- **background_value**: `[0.3]`  \n",
        "  Defines a uniform adhesion threshold used when a receptor map is not loaded. Cells must exceed this threshold to attach.\n",
        "\n",
        "- **use_receptor_map**: `False`  \n",
        "  Set to `True` if you want to load a receptor map image to control the spatial variation in adhesion properties. If `False`, a uniform background will be used.\n",
        "\n",
        "- **receptor_map_image_folder**:  \n",
        "  Specifies the directory path where the receptor map images are stored, if `use_receptor_map` is set to `True`.\n",
        "\n",
        "## Flow Recalculation After Attachment\n",
        "\n",
        "- **disable_flow_recompute**: `True`  \n",
        "  If set to `False`, the flow field is recalculated after each cell attachment to account for changes caused by arrested cells. Set to `True` to disable this recalculation and save computation time.\n",
        "\n",
        "## Output Configuration\n",
        "\n",
        "- **result_folder**:  \n",
        "  The directory where the simulation results (e.g., cell positions, attachment counts, flow patterns) will be saved. This ensures all output files are organized and accessible.\n",
        "\n",
        "- **create_video**: `False`  \n",
        "  If set to `True`, the simulation will generate videos of the cell dynamics. This can provide a visual representation of the simulation.\n",
        "\n",
        "## Debug Configuration\n",
        "\n",
        "- **debug_mode**: `False`  \n",
        "  When set to `True`, the simulation will display each created frame for visualization purposes, which can help with debugging and understanding the simulation's progress.\n"
      ],
      "metadata": {
        "id": "G6S-iUqZ1HR_"
      }
    },
    {
      "cell_type": "code",
      "execution_count": null,
      "metadata": {
        "id": "sDu-etVbnKJj"
      },
      "outputs": [],
      "source": [
        "# Space Configuration\n",
        "PIXEL_SIZE = 1.31  # microns per pixel\n",
        "CELL_AREA_MIN = 240  # micron^2\n",
        "CELL_AREA_MAX = 350  # micron^2\n",
        "FRAME_INTERVAL = 0.04  # seconds\n",
        "field_size = (512, 512)  # Size of the field of view in pixels\n",
        "grid_size = field_size\n",
        "\n",
        "# Simulation Configuration\n",
        "\n",
        "NUM_FRAMES = 500 # Number of frame the simulation will run for\n",
        "time_steps = NUM_FRAMES  # Number of time steps for the simulation\n",
        "FLOW_SPEEDS = [100]  # Flow speeds in microns per second\n",
        "adhesion_strengths = [0, 0.001, 0.005, 0.01, 0.02, 0.03, 0.04, 0.05, 0.06, 0.07, 0.08, 0.09, 0.1, 0.2]\n",
        "cell_densities = [0.0003]\n",
        "num_runs = 1\n",
        "\n",
        "# Attachement background\n",
        "background_value = [0.3] # Adhesion threshold used when not loading a receptor map\n",
        "use_receptor_map = False  # Set to True if using a receptor map image\n",
        "receptor_map_image_folder = '/content/Gdrive/Shareddrives/PDAC extravasation project 3/Simulations/CD44_FOV/512'\n",
        "\n",
        "#Compute the local flow after attachement\n",
        "disable_flow_recompute=True # Set to False to compute the flow field after each arrest\n",
        "\n",
        "# Outputs\n",
        "result_folder = '/content/test2'\n",
        "os.makedirs(result_folder, exist_ok=True)\n",
        "\n",
        "create_video = False  # Set to True if you want to generate videos\n",
        "\n",
        "# Debug\n",
        "debug_mode=False # Set to True to see each created frame\n",
        "\n",
        "print(f\"\"\"\n",
        "Simulation Settings Loaded:\n",
        "\n",
        "Space Configuration:\n",
        "  - Pixel Size: {PIXEL_SIZE} microns\n",
        "  - Cell Area: {CELL_AREA_MIN}-{CELL_AREA_MAX} micron^2\n",
        "  - Field Size: {field_size} pixels\n",
        "  - Frame Interval: {FRAME_INTERVAL} seconds\n",
        "\n",
        "Simulation Configuration:\n",
        "  - Number of Frames: {NUM_FRAMES}\n",
        "  - Flow Speeds: {FLOW_SPEEDS} microns/second\n",
        "  - Adhesion Strengths: {adhesion_strengths}\n",
        "  - Cell Densities: {cell_densities} cells/micron^2\n",
        "  - Number of Runs: {num_runs}\n",
        "\n",
        "Attachment Background:\n",
        "  - Using Receptor Map: {use_receptor_map}\n",
        "  - Background Value: {background_value} (if receptor map is disabled)\n",
        "\n",
        "Flow Recalculation After Attachment:\n",
        "  - Disable Flow Recompute: {disable_flow_recompute}\n",
        "\n",
        "Outputs:\n",
        "  - Results will be saved in: {result_folder}\n",
        "  - Video Creation: {create_video}\n",
        "\n",
        "Debug:\n",
        "  - Debug Mode: {debug_mode}\n",
        "\"\"\")\n"
      ]
    },
    {
      "cell_type": "code",
      "source": [
        "# @title ##Run to prepare your simulations\n",
        "\n",
        "\n",
        "# Cell size calculations\n",
        "cell_diameter_min = int(np.sqrt((CELL_AREA_MIN / np.pi)) * 2 / PIXEL_SIZE)  # pixels\n",
        "cell_diameter_max = int(np.sqrt((CELL_AREA_MAX / np.pi)) * 2 / PIXEL_SIZE)  # pixels\n",
        "cell_diameter_avg = int((cell_diameter_min + cell_diameter_max) / 2)  # pixels\n",
        "\n",
        "# Calculate the average cell area in pixels^2\n",
        "cell_area_avg = int(((CELL_AREA_MIN + CELL_AREA_MAX) / 2) / (PIXEL_SIZE ** 2))  # pixels^2\n",
        "\n",
        "# Calculate the cell radius in pixels\n",
        "cell_radius = cell_diameter_avg // 2  # pixels\n",
        "\n",
        "positions_folder = os.path.join(result_folder, 'Positions')\n",
        "counts_folder = os.path.join(result_folder, 'Counts')\n",
        "attachment_matrix_folder = os.path.join(result_folder, 'Attachment_Matrices')\n",
        "flow_pattern_folder = os.path.join(result_folder, 'Flow_Pattern')\n",
        "attached_cells_folder = os.path.join(result_folder, 'attached_cells')\n",
        "\n",
        "for folder in [positions_folder, counts_folder, attachment_matrix_folder, flow_pattern_folder, attached_cells_folder]:\n",
        "    os.makedirs(folder, exist_ok=True)\n",
        "\n",
        "# Load or Create Checkpoint\n",
        "config_file_path = os.path.join(result_folder, 'simulation_checkpoint.json')\n",
        "if os.path.exists(config_file_path):\n",
        "    with open(config_file_path, 'r') as config_file:\n",
        "        completed_simulations = json.load(config_file)\n",
        "    print(f\"Found {len(completed_simulations)} completed simulations.\")\n",
        "else:\n",
        "    completed_simulations = []\n",
        "    print(\"No completed simulations found. Starting fresh.\")\n",
        "\n",
        "\n",
        "# Generate Simulation Key\n",
        "def generate_simulation_key(flow_speed, adhesion_strength, cell_density, run_id, mask_name):\n",
        "    return f'{flow_speed}_{adhesion_strength}_{cell_density}_{run_id}_{mask_name}'\n",
        "\n",
        "# Generate the list of masks or use \"uniform\"\n",
        "def get_masks_or_uniform():\n",
        "    if use_receptor_map:\n",
        "        return [f for f in os.listdir(receptor_map_image_folder) if f.endswith('.tif')]\n",
        "    else:\n",
        "        return ['uniform']  # Use \"uniform\" as a placeholder\n",
        "\n",
        "# Prepare all simulation parameters with the mask name included\n",
        "def create_simulation_keys():\n",
        "    mask_list = get_masks_or_uniform()\n",
        "    simulation_params = list(product(FLOW_SPEEDS, adhesion_strengths, cell_densities, range(num_runs), mask_list))\n",
        "    all_simulation_keys = [generate_simulation_key(*params) for params in simulation_params]\n",
        "    return all_simulation_keys, mask_list\n",
        "\n",
        "# Simulation setup\n",
        "all_simulation_keys, mask_list = create_simulation_keys()\n",
        "\n",
        "# Print information about completed and remaining simulations\n",
        "remaining_simulations = [key for key in all_simulation_keys if key not in completed_simulations]\n",
        "print(f\"Total simulations: {len(all_simulation_keys)}\")\n",
        "print(f\"Remaining simulations: {len(remaining_simulations)}\")"
      ],
      "metadata": {
        "cellView": "form",
        "id": "XrHf4FR69YnW"
      },
      "execution_count": null,
      "outputs": []
    },
    {
      "cell_type": "markdown",
      "source": [
        "# **Part 3. Run your simulations**\n"
      ],
      "metadata": {
        "id": "ZTlRPMts9w6y"
      }
    },
    {
      "cell_type": "code",
      "execution_count": null,
      "metadata": {
        "id": "MYCZcr8iqL5z",
        "cellView": "form"
      },
      "outputs": [],
      "source": [
        "# @title ##Run to start your simulations\n",
        "\n",
        "\n",
        "for key in tqdm(remaining_simulations, desc=\"Simulations\"):\n",
        "    # Extract parameters from the key\n",
        "    flow_speed, adhesion_strength, cell_density, run_id, mask_name = key.split('_')\n",
        "\n",
        "    # Load the mask or create uniform background\n",
        "    if mask_name == \"uniform\":\n",
        "        background = np.ones(field_size) * background_value  # Uniform background\n",
        "        print(f\"Using uniform background with value: {background_value}\")\n",
        "    else:\n",
        "        receptor_map_image_path = os.path.join(receptor_map_image_folder, mask_name)\n",
        "        background = load_receptor_map(receptor_map_image_path, field_size)\n",
        "        print(f\"Using receptor map: {mask_name}\")\n",
        "\n",
        "    # Run the simulation\n",
        "    flow_rate_per_frame = calculate_flow_rate_per_frame(float(flow_speed), FRAME_INTERVAL, PIXEL_SIZE)\n",
        "    space = Space(field_size=field_size, grid_size=grid_size, initial_flow_speed=flow_rate_per_frame)\n",
        "    total_attached_cells_count = run_simulation(\n",
        "        result_folder,\n",
        "        field_size,\n",
        "        grid_size,\n",
        "        PIXEL_SIZE,\n",
        "        time_steps,\n",
        "        cell_diameter_avg,\n",
        "        cell_radius,\n",
        "        space,\n",
        "        flow_rate_per_frame=flow_rate_per_frame,\n",
        "        flow_speed=float(flow_speed),\n",
        "        adhesion_strength=float(adhesion_strength),\n",
        "        cell_density=float(cell_density),\n",
        "        positions_folder=positions_folder,\n",
        "        counts_folder=counts_folder,\n",
        "        attachment_matrix_folder=attachment_matrix_folder,\n",
        "        flow_pattern_folder=flow_pattern_folder,\n",
        "        attached_cells_folder=attached_cells_folder,\n",
        "        run_id=int(run_id),\n",
        "        background=background,\n",
        "        create_video=create_video,\n",
        "        debug_mode=debug_mode,\n",
        "        disable_flow_recompute=disable_flow_recompute,\n",
        "        mask_name=mask_name )\n",
        "\n",
        "    # Save the completed simulation\n",
        "    completed_simulations.append(key)\n",
        "    with open(config_file_path, 'w') as config_file:\n",
        "        json.dump(completed_simulations, config_file)\n",
        "\n",
        "print(\"All simulations completed\")\n"
      ]
    },
    {
      "cell_type": "markdown",
      "source": [
        "# **Part 4. Count the number of attached cells**\n"
      ],
      "metadata": {
        "id": "SioSpBoV96Fg"
      }
    },
    {
      "cell_type": "code",
      "execution_count": null,
      "metadata": {
        "id": "Yq9wdKijvB_q",
        "cellView": "form"
      },
      "outputs": [],
      "source": [
        "result_folder = '/content/test2' # @param {type: \"string\"}\n"
      ]
    },
    {
      "cell_type": "code",
      "execution_count": null,
      "metadata": {
        "cellView": "form",
        "id": "CJIcXw1I1oLj"
      },
      "outputs": [],
      "source": [
        "\n",
        "# @title ##Count the number of attached cells per conditions\n",
        "\n",
        "# Usage\n",
        "count_folder = os.path.join(result_folder, 'Counts')\n",
        "\n",
        "# Call the function to sum attached cells over time and save to CSV\n",
        "sum_attached_cells_over_time(result_folder, count_folder)\n"
      ]
    },
    {
      "cell_type": "code",
      "execution_count": null,
      "metadata": {
        "cellView": "form",
        "id": "7y_ptwhp-Dfa"
      },
      "outputs": [],
      "source": [
        "\n",
        "# @title ##Plots the number of attached cells per conditions\n",
        "\n",
        "plot_heatmaps_total_attached(result_folder)\n"
      ]
    },
    {
      "cell_type": "markdown",
      "source": [
        "# **Part 5. Spatial analyses of attached cells**\n"
      ],
      "metadata": {
        "id": "G7FGQ8Ek-IqQ"
      }
    },
    {
      "cell_type": "markdown",
      "source": [
        "### Spatial Analysis Settings\n",
        "\n",
        "- **`result_folder`**:\n",
        "  - Path where all simulation results, outputs, and figures are saved. This directory will contain various output files including the heatmaps and statistical data from the spatial analysis.\n",
        "  - **Example**: `'/content/test2'`.\n",
        "\n",
        "- **`field_size`**:\n",
        "  - Represents the size of the simulation or observation area in pixels. This determines the spatial bounds within which the analysis is conducted.\n",
        "  - **Example**: `(512, 512)` (Width and height in pixels).\n",
        "\n",
        "- **`FRAME_INTERVAL`**:\n",
        "  - The time interval between two consecutive frames of the simulation. This value is essential for time-based calculations in the analysis, such as dynamic behaviors of cells over time.\n",
        "  - **Example**: `0.04` seconds (i.e., 40 milliseconds between frames).\n",
        "\n",
        "- **`PIXEL_SIZE`**:\n",
        "  - Defines the physical size of a pixel in microns. This is used to convert between pixel measurements and real-world distances. This is crucial for spatial analyses where measurements need to be made in physical units.\n",
        "  - **Example**: `1.31` microns per pixel.\n",
        "\n",
        "- **`radii`**:\n",
        "  - A list of radii values in micrometers used for spatial analysis such as Ripley's K or L-function. These radii determine the distances at which spatial relationships are examined. Ripley's functions calculate how the spatial distribution of points (cells) changes across these distances.\n",
        "  - **Example**: `np.arange(1, 200, 10)` (This generates a range of radii from 1 to 200 microns, spaced by 10 microns).\n",
        "\n"
      ],
      "metadata": {
        "id": "KF-cqINn9YjH"
      }
    },
    {
      "cell_type": "code",
      "source": [
        "result_folder = '/content/test2'\n",
        "field_size = (512, 512)  # Size of the field of view in pixels\n",
        "FRAME_INTERVAL = 0.04  # seconds\n",
        "PIXEL_SIZE = 1.31  # microns per pixel\n",
        "radii = np.arange(1, 200, 10)  # Example radii in micrometers\n"
      ],
      "metadata": {
        "id": "-exo2NiR-PgQ"
      },
      "execution_count": null,
      "outputs": []
    },
    {
      "cell_type": "code",
      "execution_count": null,
      "metadata": {
        "cellView": "form",
        "id": "Pe3cnJabSV5Z"
      },
      "outputs": [],
      "source": [
        "\n",
        "# @title ##Compute the Ripley's values for each simulation\n",
        "\n",
        "# Main script to compute Ripley's L function\n",
        "compute_ripley_l(result_folder, radii, field_size, FRAME_INTERVAL, PIXEL_SIZE)\n"
      ]
    },
    {
      "cell_type": "code",
      "execution_count": null,
      "metadata": {
        "cellView": "form",
        "id": "w82yqLsMQp7x"
      },
      "outputs": [],
      "source": [
        "# @title ##Plots the Ripley_L_Values per conditions\n",
        "\n",
        "radius = 51 # @param {type: \"integer\"}\n",
        "\n",
        "\n",
        "# Replace result_folder with the path to your result folder\n",
        "plot_heatmaps_ripley_l(result_folder, radius=radius)\n"
      ]
    },
    {
      "cell_type": "markdown",
      "source": [
        "# **Part 6. Utils functions and playground**\n"
      ],
      "metadata": {
        "id": "YHIkqA5Q-Se_"
      }
    },
    {
      "cell_type": "markdown",
      "metadata": {
        "id": "LGp-dCDEJb6W"
      },
      "source": [
        "## Test the flow computation with obstacle"
      ]
    },
    {
      "cell_type": "code",
      "execution_count": null,
      "metadata": {
        "cellView": "form",
        "id": "2vLxavlkMNmI"
      },
      "outputs": [],
      "source": [
        "from phi.jax.flow import *\n",
        "import matplotlib.animation as animation\n",
        "import matplotlib.pyplot as plt\n",
        "from tqdm import tqdm\n",
        "\n",
        "# @title ###Test\n",
        "\n",
        "\n",
        "# Define stationary cell obstacles\n",
        "cells = [\n",
        "    Sphere(x=50, y=25, radius=5),  # Cell 1\n",
        "    Sphere(x=70, y=30, radius=5),  # Cell 2\n",
        "]\n",
        "\n",
        "# Plotting the obstacles (optional)\n",
        "plot({\"Cells\": union(*cells)['x,y']})\n",
        "plt.show()\n",
        "\n",
        "# Set water-like properties at 37°C\n",
        "viscosity = 0.0007  # In Pa·s\n",
        "density = 993  # Density in kg/m³ for water at 37°C\n",
        "\n",
        "pbar = tqdm(total=200)\n",
        "\n",
        "@jit_compile\n",
        "def step(v, p, dt=1.):\n",
        "    v = advect.semi_lagrangian(v, v, dt)\n",
        "    v, p = fluid.make_incompressible(v, cells, Solve(x0=p))\n",
        "    pbar.update(1)\n",
        "    return v, p\n",
        "\n",
        "# Define 2D boundary conditions for unilateral, infinite flow\n",
        "boundary = {\n",
        "    'x-': vec(x=8, y=0),  # Strong inflow from the left\n",
        "    'x+': ZERO_GRADIENT,  # Outflow on the right (zero gradient for smooth exit)\n",
        "    'y-': ZERO_GRADIENT,  # Open boundary at the bottom\n",
        "    'y+': ZERO_GRADIENT   # Open boundary at the top\n",
        "}\n",
        "\n",
        "# Initialize the velocity grid in 2D with uniform flow to simulate an infinite source\n",
        "v0 = StaggeredGrid((8., 0), boundary, x=128, y=64, bounds=Box(x=200, y=100))\n",
        "\n",
        "# Run the simulation\n",
        "v_trj, p_trj = iterate(step, batch(time=200), v0, None)\n",
        "\n",
        "# Visualize the flow field in 2D (curl of the velocity field)\n",
        "v_trj_2d = v_trj[{'vector': 'x,y'}]\n",
        "anim = plot(v_trj_2d.time[100:].curl(), animate='time')\n",
        "anim.save('cells_curl.gif')\n",
        "plt.show()\n",
        "\n",
        "# Plot the final velocity field with cells overlaid\n",
        "plot(v_trj_2d.time[-1], union(*cells)['x,y'], overlay='args')\n",
        "plt.show()\n"
      ]
    },
    {
      "cell_type": "code",
      "execution_count": null,
      "metadata": {
        "cellView": "form",
        "id": "UVWaTuuDeabm"
      },
      "outputs": [],
      "source": [
        "from phi.jax.flow import *\n",
        "import matplotlib.animation as animation\n",
        "import matplotlib.pyplot as plt\n",
        "from tqdm import tqdm\n",
        "\n",
        "# @title ###Test\n",
        "\n",
        "\n",
        "# Define stationary cell obstacles\n",
        "cells = [\n",
        "    Sphere(x=50, y=25, radius=5),  # Cell 1\n",
        "    Sphere(x=70, y=30, radius=5),  # Cell 2\n",
        "]\n",
        "\n",
        "# Plotting the obstacles (optional)\n",
        "plot({\"Cells\": union(*cells)['x,y']})\n",
        "plt.show()\n",
        "\n",
        "# Set water-like properties at 37°C\n",
        "viscosity = 0.0007  # In Pa·s\n",
        "density = 993  # Density in kg/m³ for water at 37°C\n",
        "\n",
        "pbar = tqdm(total=200)\n",
        "\n",
        "@jit_compile\n",
        "def step(v, p, dt=1.):\n",
        "    v = advect.semi_lagrangian(v, v, dt)\n",
        "    v = diffuse.explicit(v, viscosity, dt)\n",
        "\n",
        "    v, p = fluid.make_incompressible(v, cells, Solve(x0=p))\n",
        "    pbar.update(1)\n",
        "    return v, p\n",
        "\n",
        "# Define 2D boundary conditions for unilateral, infinite flow\n",
        "boundary = {\n",
        "    'x-': vec(x=8, y=0),  # Strong inflow from the left\n",
        "    'x+': ZERO_GRADIENT,  # Outflow on the right (zero gradient for smooth exit)\n",
        "    'y-': ZERO_GRADIENT,  # Open boundary at the bottom\n",
        "    'y+': ZERO_GRADIENT   # Open boundary at the top\n",
        "}\n",
        "\n",
        "# Initialize the velocity grid in 2D with uniform flow to simulate an infinite source\n",
        "v0 = StaggeredGrid((8., 0), boundary, x=128, y=64, bounds=Box(x=200, y=100))\n",
        "\n",
        "# Run the simulation\n",
        "v_trj, p_trj = iterate(step, batch(time=200), v0, None)\n",
        "\n",
        "# Visualize the flow field in 2D (curl of the velocity field)\n",
        "v_trj_2d = v_trj[{'vector': 'x,y'}]\n",
        "anim = plot(v_trj_2d.time[100:].curl(), animate='time')\n",
        "anim.save('cells_curl.gif')\n",
        "plt.show()\n",
        "\n",
        "# Plot the final velocity field with cells overlaid\n",
        "plot(v_trj_2d.time[-1], union(*cells)['x,y'], overlay='args')\n",
        "plt.show()\n"
      ]
    },
    {
      "cell_type": "markdown",
      "source": [
        "## Plot the Plots the Ripley_L_Values per conditions (code for cell line data)"
      ],
      "metadata": {
        "id": "ptSo2fY5xx6V"
      }
    },
    {
      "cell_type": "code",
      "execution_count": null,
      "metadata": {
        "cellView": "form",
        "id": "gHsg0zhdZTmS"
      },
      "outputs": [],
      "source": [
        "import os\n",
        "import numpy as np\n",
        "import pandas as pd\n",
        "import matplotlib.pyplot as plt\n",
        "\n",
        "# @title ###Plots the Ripley_L_Values per conditions (code for cell line data)\n",
        "\n",
        "\n",
        "# Function to plot Ripley's L Function heatmap by Cells and Flow Speed\n",
        "def plot_heatmap_ripley_l(csv_file_path):\n",
        "    # Load the CSV file with Ripley's L values\n",
        "    ripley_l_df = pd.read_csv(csv_file_path)\n",
        "\n",
        "    # Ensure 'Flow_speed' and 'Cells' are treated as categorical variables\n",
        "    ripley_l_df['Flow_speed'] = ripley_l_df['Flow_speed'].astype(str)\n",
        "    ripley_l_df['Cells'] = ripley_l_df['Cells'].astype(str)\n",
        "\n",
        "    # Group the data by Flow Speed and Cells, and calculate the mean Ripley's L value\n",
        "    grouped_df = ripley_l_df.groupby(\n",
        "        ['Flow_speed', 'Cells']\n",
        "    )['Ripley_L_at_Specific_Radius_slow'].mean().reset_index()\n",
        "\n",
        "    print(\"Grouped DataFrame head:\\n\", grouped_df.head())\n",
        "\n",
        "    # Pivot the DataFrame for heatmap\n",
        "    heatmap_data = grouped_df.pivot(\n",
        "        index='Cells', columns='Flow_speed', values='Ripley_L_at_Specific_Radius_slow'\n",
        "    )\n",
        "\n",
        "    # Plot heatmap\n",
        "    fig, ax = plt.subplots(figsize=(12, 8))\n",
        "    ax.set_facecolor('yellow')  # Set the background color of the axes\n",
        "\n",
        "    # Plot the heatmap with chosen colormap, setting limits from -50 to +50\n",
        "    cax = ax.imshow(heatmap_data, cmap='coolwarm', aspect='auto', vmin=-50, vmax=50)\n",
        "\n",
        "    # Set titles and labels\n",
        "    ax.set_title(\"Ripley's L Function Heatmap\")\n",
        "    ax.set_xlabel('Flow Speed')\n",
        "    ax.set_ylabel('Cells')\n",
        "\n",
        "    # Customize the ticks\n",
        "    ax.set_xticks(np.arange(len(heatmap_data.columns)))\n",
        "    ax.set_xticklabels(heatmap_data.columns)\n",
        "    ax.set_yticks(np.arange(len(heatmap_data.index)))\n",
        "    ax.set_yticklabels(heatmap_data.index)\n",
        "\n",
        "    # Add colorbar with label\n",
        "    cbar = fig.colorbar(cax, ax=ax, orientation='vertical')\n",
        "    cbar.set_label(\"Ripley L Value\")\n",
        "\n",
        "    # Save the heatmap to a file\n",
        "    plt.savefig(os.path.join(os.path.dirname(csv_file_path), 'heatmap_ripley_l_values.pdf'))\n",
        "    plt.show()\n",
        "    plt.close(fig)\n",
        "\n",
        "    print(f\"Heatmap plotting completed. Results saved to {os.path.dirname(csv_file_path)}\")\n",
        "\n",
        "# Replace 'csv_file_path' with the actual path to your CSV file in Google Colab\n",
        "csv_file_path = '/content/ripleys_l_values.csv'\n",
        "plot_heatmap_ripley_l(csv_file_path)\n"
      ]
    },
    {
      "cell_type": "markdown",
      "source": [
        "## Load the receptor masks and compute the averages"
      ],
      "metadata": {
        "id": "ixL7c8AXx8yX"
      }
    },
    {
      "cell_type": "code",
      "execution_count": null,
      "metadata": {
        "id": "dUjqLQvW2jR2",
        "cellView": "form"
      },
      "outputs": [],
      "source": [
        "# @title ###load the masks and compute the averages\n",
        "\n",
        "\n",
        "receptor_map_image_folder = '/content/Gdrive/Shareddrives/PDAC extravasation project 3/Simulations/CD44_FOV/512'  # @param {type: \"string\"}\n",
        "\n",
        "# Call the function to load the masks and compute the averages\n",
        "overall_average = load_masks_and_compute_average(receptor_map_image_folder)\n"
      ]
    }
  ],
  "metadata": {
    "colab": {
      "provenance": [],
      "collapsed_sections": [
        "SioSpBoV96Fg",
        "G7FGQ8Ek-IqQ"
      ]
    },
    "kernelspec": {
      "display_name": "Python 3",
      "name": "python3"
    },
    "language_info": {
      "name": "python"
    }
  },
  "nbformat": 4,
  "nbformat_minor": 0
}